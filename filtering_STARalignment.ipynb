{
 "cells": [
  {
   "cell_type": "markdown",
   "metadata": {},
   "source": [
    "# RNA-sequencing Alignment Pipeline.\n"
   ]
  },
  {
   "cell_type": "markdown",
   "metadata": {},
   "source": [
    "This pipeline will filter/trim your reads, run QC, and align reads to a reference genome using STAR alignment. \n",
    "Make sure your data is placed in the \"rawdata\" subfolder and you have activated conda \"conda activate STAR_conda\" "
   ]
  },
  {
   "cell_type": "markdown",
   "metadata": {},
   "source": [
    "Run Fastp on each of your samples in a loop format to trim/filter all reads"
   ]
  },
  {
   "cell_type": "markdown",
   "metadata": {},
   "source": [
    "required packages(conda): \n",
    "fastp, \n",
    "FastQC,\n",
    "MultiQC,\n",
    "STAR, Subread"
   ]
  },
  {
   "cell_type": "markdown",
   "metadata": {},
   "source": [
    "## Trim/Filter Reads"
   ]
  },
  {
   "cell_type": "code",
   "execution_count": null,
   "metadata": {},
   "outputs": [],
   "source": [
    "%%bash\n",
    "mkdir ./fastp_output\n",
    "for file in `ls -1 ./rawdata/*.fastq.gz | sed 's/.fastq.gz//'` #finds files in rawdata folder that match *.fastq.gz\n",
    "do\n",
    "    #fastp \n",
    "    fastp -i $file\\.fastq.gz -o $file\\_fastp_output.fastq.gz --trim_poly_x\n",
    "    mv fastp.html $file\\_fastp.html #renames log file to include original filename\n",
    "    mv fastp.json $file\\_fastp.json\n",
    "done  \n",
    "#move all files in sequencinglib1 that were Fastp output to a new folder and back to the original home directo\n",
    "mv ./rawdata/*fastp* ./fastp_output\n",
    "mkdir ./fastp_output/data\n",
    "mv ./fastp_output/*.gz ./fastp_output/data"
   ]
  },
  {
   "cell_type": "markdown",
   "metadata": {},
   "source": [
    "## Fastqc - quality control of sample"
   ]
  },
  {
   "cell_type": "code",
   "execution_count": null,
   "metadata": {},
   "outputs": [],
   "source": [
    "##very fast - use in the future!!!\n",
    "!mkdir ./FastQC_output\n",
    "#quality control on trimmed samples\n",
    "!find ./fastp_output/data -name \"*_output.fastq.gz\" | parallel fastqc -o ./FastQC_output/ {} \n",
    "#quality control on raw samples - not necessary but I like to compare \n",
    "!find ./rawdata -name \"*.fastq.gz\" | parallel fastqc -o ./FastQC_output/ {} \n",
    "!multiqc ./FastQC_output/"
   ]
  },
  {
   "cell_type": "markdown",
   "metadata": {},
   "source": [
    "if in jupyter notebook, download multiqc .html file locally to your computer for viewing "
   ]
  },
  {
   "cell_type": "markdown",
   "metadata": {},
   "source": [
    "## Genome Generation (only done once!)"
   ]
  },
  {
   "cell_type": "markdown",
   "metadata": {},
   "source": [
    "Make STAR index for each genome if not already created. Download your genome and GTF file of choice and place them in the folder ./STARindex/"
   ]
  },
  {
   "cell_type": "code",
   "execution_count": null,
   "metadata": {},
   "outputs": [],
   "source": [
    "#make STAR indices \n",
    "#do not run if you already have indices! \n",
    "!STAR --runThreadN 5 \\\n",
    "    --runMode genomeGenerate \\\n",
    "    --genomeDir ./STARindex/Ca22genome \\\n",
    "    --genomeFastaFiles ./STARindex/Ca22genome/C_albicans_SC5314_version_A22-s07-m01-r105_chromosomes.fasta \\\n",
    "    --sjdbGTFfile ./STARindex/Ca22genome/C_albicans_SC5314_version_A22-s07-m01-r105_features.gtf \\\n",
    "    --sjdbOverhang 62 \\\n",
    "    --genomeSAindexNbases 10"
   ]
  },
  {
   "cell_type": "markdown",
   "metadata": {},
   "source": [
    "## STAR Alignment"
   ]
  },
  {
   "cell_type": "markdown",
   "metadata": {},
   "source": [
    "Run STAR slignment on all files in loop format"
   ]
  },
  {
   "cell_type": "code",
   "execution_count": null,
   "metadata": {},
   "outputs": [],
   "source": [
    "%%bash\n",
    "mkdir ./star_output\n",
    "for file in $(ls ./fastp_output/data/*)\n",
    "do\n",
    "    b=$(basename ${file})\n",
    "    STAR --genomeDir ./STARindex/Ca22genome \\\n",
    "              --runMode alignReads \\\n",
    "              --readFilesIn $file \\\n",
    "              --runThreadN 20 \\\n",
    "              --readFilesCommand gunzip -c \\\n",
    "              --outSAMtype BAM SortedByCoordinate\\\n",
    "              --outReadsUnmapped Fastx \\\n",
    "              --outFileNamePrefix ./starout/$b\\_ \\\n",
    "              --limitBAMsortRAM 31000000000 \\\n",
    "              --outSAMmultNmax 10 \\\n",
    "              --alignIntronMax 4000 --alignIntronMin 4\n",
    "  done"
   ]
  },
  {
   "cell_type": "markdown",
   "metadata": {},
   "source": [
    "## Grabbing Count Data Using Subread"
   ]
  },
  {
   "cell_type": "code",
   "execution_count": null,
   "metadata": {},
   "outputs": [],
   "source": [
    "featureCounts -T 20 -t mRNA -g Name -s 1 -a ~/STARgenomes/Ca22genome_Aallele/C_albicans_SC5314_version_A22-s07-m01-r105_features_Aallele_tuch.gff.txt -o ./featurecounts/C_alb_mRNA_STAR_counts.txt ./starout/*.bam"
   ]
  },
  {
   "cell_type": "markdown",
   "metadata": {},
   "source": [
    "output file found in ./featurecounts is then loaded into another notebook for running DESeq (Differential Expression Analysis)"
   ]
  }
 ],
 "metadata": {
  "kernelspec": {
   "display_name": "R [conda env:.conda-R-test27]",
   "language": "R",
   "name": "conda-env-.conda-R-test27-r"
  },
  "language_info": {
   "codemirror_mode": "r",
   "file_extension": ".r",
   "mimetype": "text/x-r-source",
   "name": "R",
   "pygments_lexer": "r",
   "version": "4.0.5"
  },
  "toc": {
   "base_numbering": 1,
   "nav_menu": {},
   "number_sections": true,
   "sideBar": true,
   "skip_h1_title": true,
   "title_cell": "Table of Contents",
   "title_sidebar": "Contents",
   "toc_cell": false,
   "toc_position": {},
   "toc_section_display": true,
   "toc_window_display": false
  }
 },
 "nbformat": 4,
 "nbformat_minor": 4
}
